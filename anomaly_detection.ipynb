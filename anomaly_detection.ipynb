{
  "nbformat": 4,
  "nbformat_minor": 0,
  "metadata": {
    "kernelspec": {
      "name": "python3",
      "display_name": "Python 3"
    },
    "language_info": {
      "codemirror_mode": {
        "name": "ipython",
        "version": 3
      },
      "file_extension": ".py",
      "mimetype": "text/x-python",
      "name": "python",
      "nbconvert_exporter": "python",
      "pygments_lexer": "ipython3",
      "version": "3.6.6"
    },
    "colab": {
      "name": "anomaly_detection.ipynb",
      "provenance": [],
      "collapsed_sections": [],
      "include_colab_link": true
    },
    "accelerator": "GPU"
  },
  "cells": [
    {
      "cell_type": "markdown",
      "metadata": {
        "id": "view-in-github",
        "colab_type": "text"
      },
      "source": [
        "<a href=\"https://colab.research.google.com/github/Syilun/Deep-Learning-algorithms/blob/master/anomaly_detection.ipynb\" target=\"_parent\"><img src=\"https://colab.research.google.com/assets/colab-badge.svg\" alt=\"Open In Colab\"/></a>"
      ]
    },
    {
      "cell_type": "code",
      "metadata": {
        "id": "MMM8YSC79d5b",
        "colab_type": "code",
        "colab": {}
      },
      "source": [
        "from tensorflow import keras\n",
        "from tensorflow.keras import datasets\n",
        "from tensorflow.keras.layers import *\n",
        "from tensorflow.keras.models import *\n",
        "import matplotlib.pyplot as plt\n",
        "import numpy as np"
      ],
      "execution_count": null,
      "outputs": []
    },
    {
      "cell_type": "code",
      "metadata": {
        "id": "H4GfoeWo9d5i",
        "colab_type": "code",
        "colab": {}
      },
      "source": [
        "(x_train, y_train), (x_test, y_test) = keras.datasets.mnist.load_data()"
      ],
      "execution_count": null,
      "outputs": []
    },
    {
      "cell_type": "code",
      "metadata": {
        "id": "GsW1Dxjv9d5m",
        "colab_type": "code",
        "colab": {
          "base_uri": "https://localhost:8080/",
          "height": 35
        },
        "outputId": "2b489a08-d5aa-4ca7-98fc-9233a814014d"
      },
      "source": [
        "x_train.shape, y_train.shape, x_test.shape, y_test.shape"
      ],
      "execution_count": null,
      "outputs": [
        {
          "output_type": "execute_result",
          "data": {
            "text/plain": [
              "((60000, 28, 28), (60000,), (10000, 28, 28), (10000,))"
            ]
          },
          "metadata": {
            "tags": []
          },
          "execution_count": 11
        }
      ]
    },
    {
      "cell_type": "code",
      "metadata": {
        "id": "G0IA_c909d5s",
        "colab_type": "code",
        "colab": {}
      },
      "source": [
        "normal_no = 1\n",
        "abnormal_no = 9\n",
        "\n",
        "x_normal = x_train[y_train == normal_no]\n",
        "x_test_normal = x_test[y_test == normal_no]\n",
        "x_abnormal = np.concatenate((x_train[y_train == abnormal_no], x_test[y_test == abnormal_no]))\n",
        "\n",
        "x_normal = np.expand_dims(x_normal, axis=-1)\n",
        "x_test_normal = np.expand_dims(x_test_normal, axis=-1)\n",
        "x_abnormal = np.expand_dims(x_abnormal, axis=-1)\n",
        "\n",
        "# For Dense autoencoder\n",
        "# x_normal = x_normal.reshape((x_normal.shape[0], -1))\n",
        "# x_test_normal = x_test_normal.reshape((x_test_normal.shape[0], -1))\n",
        "# x_abnormal = x_abnormal.reshape((x_abnormal.shape[0], -1))"
      ],
      "execution_count": null,
      "outputs": []
    },
    {
      "cell_type": "code",
      "metadata": {
        "id": "n-sXcPRv9d5w",
        "colab_type": "code",
        "colab": {
          "base_uri": "https://localhost:8080/",
          "height": 35
        },
        "outputId": "9defea76-f6a4-473f-f1d1-562d12eeba0b"
      },
      "source": [
        "x_normal.shape, x_test_normal.shape , x_abnormal.shape"
      ],
      "execution_count": null,
      "outputs": [
        {
          "output_type": "execute_result",
          "data": {
            "text/plain": [
              "((6742, 28, 28, 1), (1135, 28, 28, 1), (6958, 28, 28, 1))"
            ]
          },
          "metadata": {
            "tags": []
          },
          "execution_count": 12
        }
      ]
    },
    {
      "cell_type": "code",
      "metadata": {
        "id": "cAiVCcsA9d50",
        "colab_type": "code",
        "colab": {}
      },
      "source": [
        "x_normal = x_normal / 255.\n",
        "x_test_normal = x_test_normal / 255.\n",
        "x_abnormal = x_abnormal / 255."
      ],
      "execution_count": null,
      "outputs": []
    },
    {
      "cell_type": "code",
      "metadata": {
        "id": "ws4KAIJ39d56",
        "colab_type": "code",
        "colab": {
          "base_uri": "https://localhost:8080/",
          "height": 781
        },
        "outputId": "dcf540ff-e6da-4158-9f5d-85538fd4310f"
      },
      "source": [
        "# Model1: Unet with Conv2DTranspose\n",
        "activation = 'selu'\n",
        "input_layer = Input(shape=(28, 28, 1))\n",
        "l = Conv2D(filters=8, kernel_size=(3,3), activation=activation, padding='same')(input_layer)\n",
        "c1 = Conv2D(filters=8, kernel_size=(3,3), activation=activation, padding='same')(l)\n",
        "l = MaxPool2D(strides=(2,2))(l)\n",
        "l = Conv2D(filters=16, kernel_size=(3,3), activation=activation, padding='same')(l)\n",
        "c2 = Conv2D(filters=16, kernel_size=(3,3), activation=activation, padding='same')(l)\n",
        "l = MaxPool2D(strides=(2,2))(c2)\n",
        "c3 = Conv2D(filters=32, kernel_size=(3,3), activation=activation, padding='same')(l)\n",
        "l = concatenate([Conv2DTranspose(32, (2, 2), strides=(2, 2), padding='same')(c3), c2], axis=-1)\n",
        "l = Conv2D(filters=32, kernel_size=(2,2), activation=activation, padding='same')(l)\n",
        "l = concatenate([Conv2DTranspose(32, (2, 2), strides=(2, 2), padding='same')(l), c1], axis=-1)\n",
        "l = Conv2D(filters=16, kernel_size=(2,2), activation=activation, padding='same')(l)\n",
        "l = Conv2D(filters=64, kernel_size=(1,1), activation=activation)(l)\n",
        "output_layer = Conv2D(filters=1, kernel_size=(1,1), activation='sigmoid')(l)\n",
        "                                                         \n",
        "model = Model(input_layer, output_layer)\n",
        "model.summary()"
      ],
      "execution_count": null,
      "outputs": [
        {
          "output_type": "stream",
          "text": [
            "Model: \"functional_1\"\n",
            "__________________________________________________________________________________________________\n",
            "Layer (type)                    Output Shape         Param #     Connected to                     \n",
            "==================================================================================================\n",
            "input_1 (InputLayer)            [(None, 28, 28, 1)]  0                                            \n",
            "__________________________________________________________________________________________________\n",
            "conv2d (Conv2D)                 (None, 28, 28, 8)    80          input_1[0][0]                    \n",
            "__________________________________________________________________________________________________\n",
            "max_pooling2d (MaxPooling2D)    (None, 14, 14, 8)    0           conv2d[0][0]                     \n",
            "__________________________________________________________________________________________________\n",
            "conv2d_2 (Conv2D)               (None, 14, 14, 16)   1168        max_pooling2d[0][0]              \n",
            "__________________________________________________________________________________________________\n",
            "conv2d_3 (Conv2D)               (None, 14, 14, 16)   2320        conv2d_2[0][0]                   \n",
            "__________________________________________________________________________________________________\n",
            "max_pooling2d_1 (MaxPooling2D)  (None, 7, 7, 16)     0           conv2d_3[0][0]                   \n",
            "__________________________________________________________________________________________________\n",
            "conv2d_4 (Conv2D)               (None, 7, 7, 32)     4640        max_pooling2d_1[0][0]            \n",
            "__________________________________________________________________________________________________\n",
            "conv2d_transpose (Conv2DTranspo (None, 14, 14, 32)   4128        conv2d_4[0][0]                   \n",
            "__________________________________________________________________________________________________\n",
            "concatenate (Concatenate)       (None, 14, 14, 48)   0           conv2d_transpose[0][0]           \n",
            "                                                                 conv2d_3[0][0]                   \n",
            "__________________________________________________________________________________________________\n",
            "conv2d_5 (Conv2D)               (None, 14, 14, 32)   6176        concatenate[0][0]                \n",
            "__________________________________________________________________________________________________\n",
            "conv2d_transpose_1 (Conv2DTrans (None, 28, 28, 32)   4128        conv2d_5[0][0]                   \n",
            "__________________________________________________________________________________________________\n",
            "conv2d_1 (Conv2D)               (None, 28, 28, 8)    584         conv2d[0][0]                     \n",
            "__________________________________________________________________________________________________\n",
            "concatenate_1 (Concatenate)     (None, 28, 28, 40)   0           conv2d_transpose_1[0][0]         \n",
            "                                                                 conv2d_1[0][0]                   \n",
            "__________________________________________________________________________________________________\n",
            "conv2d_6 (Conv2D)               (None, 28, 28, 16)   2576        concatenate_1[0][0]              \n",
            "__________________________________________________________________________________________________\n",
            "conv2d_7 (Conv2D)               (None, 28, 28, 64)   1088        conv2d_6[0][0]                   \n",
            "__________________________________________________________________________________________________\n",
            "conv2d_8 (Conv2D)               (None, 28, 28, 1)    65          conv2d_7[0][0]                   \n",
            "==================================================================================================\n",
            "Total params: 26,953\n",
            "Trainable params: 26,953\n",
            "Non-trainable params: 0\n",
            "__________________________________________________________________________________________________\n"
          ],
          "name": "stdout"
        }
      ]
    },
    {
      "cell_type": "code",
      "metadata": {
        "id": "vzp8UUy-_YOp",
        "colab_type": "code",
        "colab": {
          "base_uri": "https://localhost:8080/",
          "height": 1000
        },
        "outputId": "5d8b9d56-c61b-4933-cf88-cdc6e6a00ab3"
      },
      "source": [
        "keras.utils.plot_model(model)"
      ],
      "execution_count": null,
      "outputs": [
        {
          "output_type": "execute_result",
          "data": {
            "image/png": "[encoded data removed]",
            "text/plain": [
              "<IPython.core.display.Image object>"
            ]
          },
          "metadata": {
            "tags": []
          },
          "execution_count": 8
        }
      ]
    },
    {
      "cell_type": "code",
      "metadata": {
        "id": "0eN9jh9j9d5_",
        "colab_type": "code",
        "colab": {}
      },
      "source": [
        "# # Model 2: Dense encoder\n",
        "# inputs = Input((784,))\n",
        "# x = Dense(100, activation='tanh')(inputs)\n",
        "# x = Dense(50, activation='tanh')(x)\n",
        "# x = Dense(25, activation='tanh')(x)\n",
        "# x = Dense(50, activation='tanh')(x)\n",
        "# x = Dense(100, activation='tanh')(x)\n",
        "# x = Dense(784, activation='sigmoid')(x)\n",
        "# model = Model(inputs, x)\n",
        "# model.summary()"
      ],
      "execution_count": null,
      "outputs": []
    },
    {
      "cell_type": "code",
      "metadata": {
        "id": "GIXCuFMz9d6C",
        "colab_type": "code",
        "colab": {}
      },
      "source": [
        ""
      ],
      "execution_count": null,
      "outputs": []
    },
    {
      "cell_type": "code",
      "metadata": {
        "id": "jGcCDp1G9d6F",
        "colab_type": "code",
        "colab": {}
      },
      "source": [
        "model.compile(optimizer= keras.optimizers.adam(), loss='mse') # 每個pixel一個一個去比，平均差異。"
      ],
      "execution_count": null,
      "outputs": []
    },
    {
      "cell_type": "code",
      "metadata": {
        "id": "tbhP2zWG9d6L",
        "colab_type": "code",
        "colab": {
          "base_uri": "https://localhost:8080/",
          "height": 823
        },
        "outputId": "38ac4f51-8f46-42ea-c5d9-f1c61c5d7277"
      },
      "source": [
        "h = model.fit(x_normal, x_normal, batch_size=128, epochs=24)"
      ],
      "execution_count": null,
      "outputs": [
        {
          "output_type": "stream",
          "text": [
            "Epoch 1/24\n",
            "6742/6742 [==============================] - 9s 1ms/step - loss: 0.0400\n",
            "Epoch 2/24\n",
            "6742/6742 [==============================] - 2s 337us/step - loss: 0.0018\n",
            "Epoch 3/24\n",
            "6742/6742 [==============================] - 2s 336us/step - loss: 0.0011\n",
            "Epoch 4/24\n",
            "6742/6742 [==============================] - 2s 339us/step - loss: 7.8018e-04\n",
            "Epoch 5/24\n",
            "6742/6742 [==============================] - 2s 337us/step - loss: 5.9963e-04\n",
            "Epoch 6/24\n",
            "6742/6742 [==============================] - 2s 337us/step - loss: 4.7900e-04\n",
            "Epoch 7/24\n",
            "6742/6742 [==============================] - 2s 336us/step - loss: 3.9430e-04\n",
            "Epoch 8/24\n",
            "6742/6742 [==============================] - 2s 337us/step - loss: 3.3241e-04\n",
            "Epoch 9/24\n",
            "6742/6742 [==============================] - 2s 336us/step - loss: 2.9072e-04\n",
            "Epoch 10/24\n",
            "6742/6742 [==============================] - 2s 336us/step - loss: 2.6150e-04\n",
            "Epoch 11/24\n",
            "6742/6742 [==============================] - 2s 337us/step - loss: 2.4033e-04\n",
            "Epoch 12/24\n",
            "6742/6742 [==============================] - 2s 337us/step - loss: 2.2485e-04\n",
            "Epoch 13/24\n",
            "6742/6742 [==============================] - 2s 336us/step - loss: 2.1151e-04\n",
            "Epoch 14/24\n",
            "6742/6742 [==============================] - 2s 338us/step - loss: 2.0111e-04\n",
            "Epoch 15/24\n",
            "6742/6742 [==============================] - 2s 334us/step - loss: 1.9305e-04\n",
            "Epoch 16/24\n",
            "6742/6742 [==============================] - 2s 336us/step - loss: 1.8513e-04\n",
            "Epoch 17/24\n",
            "6742/6742 [==============================] - 2s 336us/step - loss: 1.7858e-04\n",
            "Epoch 18/24\n",
            "6742/6742 [==============================] - 2s 339us/step - loss: 1.7368e-04\n",
            "Epoch 19/24\n",
            "6742/6742 [==============================] - 2s 341us/step - loss: 1.6655e-04\n",
            "Epoch 20/24\n",
            "6742/6742 [==============================] - 2s 339us/step - loss: 1.6204e-04\n",
            "Epoch 21/24\n",
            "6742/6742 [==============================] - 2s 336us/step - loss: 1.5640e-04\n",
            "Epoch 22/24\n",
            "6742/6742 [==============================] - 2s 336us/step - loss: 1.5198e-04\n",
            "Epoch 23/24\n",
            "6742/6742 [==============================] - 2s 339us/step - loss: 1.4664e-04\n",
            "Epoch 24/24\n",
            "6742/6742 [==============================] - 2s 338us/step - loss: 1.4139e-04\n"
          ],
          "name": "stdout"
        }
      ]
    },
    {
      "cell_type": "code",
      "metadata": {
        "id": "AU0_3C-e9d6P",
        "colab_type": "code",
        "colab": {}
      },
      "source": [
        "pred_normal = model.predict(x_test_normal)\n",
        "pred_abnormal = model.predict(x_abnormal)\n",
        "pred_train = model.predict(x_normal)"
      ],
      "execution_count": null,
      "outputs": []
    },
    {
      "cell_type": "code",
      "metadata": {
        "id": "gLxLbQRB9d6T",
        "colab_type": "code",
        "colab": {
          "base_uri": "https://localhost:8080/",
          "height": 34
        },
        "outputId": "630fe0f5-eb38-4ff9-aa86-14cf7b60bab8"
      },
      "source": [
        "pred_normal.shape, pred_abnormal.shape, pred_train.shape"
      ],
      "execution_count": null,
      "outputs": [
        {
          "output_type": "execute_result",
          "data": {
            "text/plain": [
              "((1135, 28, 28, 1), (6958, 28, 28, 1), (6742, 28, 28, 1))"
            ]
          },
          "metadata": {
            "tags": []
          },
          "execution_count": 12
        }
      ]
    },
    {
      "cell_type": "code",
      "metadata": {
        "id": "N1RgbZ1A9d6Z",
        "colab_type": "code",
        "colab": {}
      },
      "source": [
        "def mse(x, y):\n",
        "    return (np.square(x - y)).mean(axis=(1,2,3))"
      ],
      "execution_count": null,
      "outputs": []
    },
    {
      "cell_type": "code",
      "metadata": {
        "id": "5dSMSIkF9d6d",
        "colab_type": "code",
        "colab": {}
      },
      "source": [
        "error_normal = mse(pred_normal, x_test_normal)\n",
        "error_abnormal = mse(pred_abnormal, x_abnormal)\n",
        "error_train_normal = mse(pred_train, x_normal)"
      ],
      "execution_count": null,
      "outputs": []
    },
    {
      "cell_type": "code",
      "metadata": {
        "id": "IqnHxxwZ9d6h",
        "colab_type": "code",
        "colab": {
          "base_uri": "https://localhost:8080/",
          "height": 34
        },
        "outputId": "82163a6b-1c5d-453e-85ed-9733e3e8287f"
      },
      "source": [
        "error_normal.shape, error_abnormal.shape, error_train_normal.shape"
      ],
      "execution_count": null,
      "outputs": [
        {
          "output_type": "execute_result",
          "data": {
            "text/plain": [
              "((1135,), (6958,), (6742,))"
            ]
          },
          "metadata": {
            "tags": []
          },
          "execution_count": 15
        }
      ]
    },
    {
      "cell_type": "code",
      "metadata": {
        "id": "8iqdTyVN9d6k",
        "colab_type": "code",
        "colab": {
          "base_uri": "https://localhost:8080/",
          "height": 34
        },
        "outputId": "864f7a3e-6455-4c62-aec9-aad3045b015e"
      },
      "source": [
        "np.mean(error_normal), np.mean(error_abnormal), np.mean(error_train_normal)"
      ],
      "execution_count": null,
      "outputs": [
        {
          "output_type": "execute_result",
          "data": {
            "text/plain": [
              "(0.00014200196705698635, 0.0004962851388389909, 0.00014274429688681986)"
            ]
          },
          "metadata": {
            "tags": []
          },
          "execution_count": 16
        }
      ]
    },
    {
      "cell_type": "code",
      "metadata": {
        "id": "_nb3OAPb9d6n",
        "colab_type": "code",
        "colab": {
          "base_uri": "https://localhost:8080/",
          "height": 265
        },
        "outputId": "0f588658-5799-424b-a536-f0f78802dcca"
      },
      "source": [
        "plt.hist(error_train_normal, bins=100, alpha=0.5) # Blue\n",
        "plt.hist(error_normal, bins=100, alpha=0.5) # Orange\n",
        "plt.hist(error_abnormal, bins=100, alpha=0.5) # Green\n",
        "plt.legend(['Normal_train', 'Normal_val', 'Abnormal_val'])\n",
        "plt.show()"
      ],
      "execution_count": null,
      "outputs": [
        {
          "output_type": "display_data",
          "data": {
            "image/png": "[encoded data removed]",
            "text/plain": [
              "<Figure size 432x288 with 1 Axes>"
            ]
          },
          "metadata": {
            "tags": [],
            "needs_background": "light"
          }
        }
      ]
    },
    {
      "cell_type": "code",
      "metadata": {
        "id": "MMTjWmicDPK5",
        "colab_type": "code",
        "colab": {}
      },
      "source": [
        ""
      ],
      "execution_count": null,
      "outputs": []
    }
  ]
}